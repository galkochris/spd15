{
 "cells": [
  {
   "cell_type": "code",
   "execution_count": 2,
   "metadata": {},
   "outputs": [
    {
     "data": {
      "text/html": [
       "<div>\n",
       "<style scoped>\n",
       "    .dataframe tbody tr th:only-of-type {\n",
       "        vertical-align: middle;\n",
       "    }\n",
       "\n",
       "    .dataframe tbody tr th {\n",
       "        vertical-align: top;\n",
       "    }\n",
       "\n",
       "    .dataframe thead th {\n",
       "        text-align: right;\n",
       "    }\n",
       "</style>\n",
       "<table border=\"1\" class=\"dataframe\">\n",
       "  <thead>\n",
       "    <tr style=\"text-align: right;\">\n",
       "      <th></th>\n",
       "      <th>Report_Year</th>\n",
       "      <th>Census_Tract_1990</th>\n",
       "      <th>Crime_Type</th>\n",
       "      <th>Report_Year_Total</th>\n",
       "    </tr>\n",
       "  </thead>\n",
       "  <tbody>\n",
       "    <tr>\n",
       "      <td>0</td>\n",
       "      <td>1996</td>\n",
       "      <td>1.0</td>\n",
       "      <td>Aggravated Assault</td>\n",
       "      <td>11</td>\n",
       "    </tr>\n",
       "    <tr>\n",
       "      <td>1</td>\n",
       "      <td>1996</td>\n",
       "      <td>1.0</td>\n",
       "      <td>Homicide</td>\n",
       "      <td>0</td>\n",
       "    </tr>\n",
       "    <tr>\n",
       "      <td>2</td>\n",
       "      <td>1996</td>\n",
       "      <td>1.0</td>\n",
       "      <td>NonResidential Burglary</td>\n",
       "      <td>41</td>\n",
       "    </tr>\n",
       "    <tr>\n",
       "      <td>3</td>\n",
       "      <td>1996</td>\n",
       "      <td>1.0</td>\n",
       "      <td>Property Crimes Total</td>\n",
       "      <td>430</td>\n",
       "    </tr>\n",
       "    <tr>\n",
       "      <td>4</td>\n",
       "      <td>1996</td>\n",
       "      <td>1.0</td>\n",
       "      <td>Rape</td>\n",
       "      <td>2</td>\n",
       "    </tr>\n",
       "    <tr>\n",
       "      <td>5</td>\n",
       "      <td>1996</td>\n",
       "      <td>1.0</td>\n",
       "      <td>Residential Burglary</td>\n",
       "      <td>42</td>\n",
       "    </tr>\n",
       "    <tr>\n",
       "      <td>6</td>\n",
       "      <td>1996</td>\n",
       "      <td>1.0</td>\n",
       "      <td>Robbery</td>\n",
       "      <td>2</td>\n",
       "    </tr>\n",
       "    <tr>\n",
       "      <td>7</td>\n",
       "      <td>1996</td>\n",
       "      <td>1.0</td>\n",
       "      <td>Theft</td>\n",
       "      <td>293</td>\n",
       "    </tr>\n",
       "    <tr>\n",
       "      <td>8</td>\n",
       "      <td>1996</td>\n",
       "      <td>1.0</td>\n",
       "      <td>Vehicle Theft</td>\n",
       "      <td>53</td>\n",
       "    </tr>\n",
       "    <tr>\n",
       "      <td>9</td>\n",
       "      <td>1996</td>\n",
       "      <td>1.0</td>\n",
       "      <td>Violent Crimes Total</td>\n",
       "      <td>15</td>\n",
       "    </tr>\n",
       "  </tbody>\n",
       "</table>\n",
       "</div>"
      ],
      "text/plain": [
       "   Report_Year  Census_Tract_1990               Crime_Type  Report_Year_Total\n",
       "0         1996                1.0       Aggravated Assault                 11\n",
       "1         1996                1.0                 Homicide                  0\n",
       "2         1996                1.0  NonResidential Burglary                 41\n",
       "3         1996                1.0    Property Crimes Total                430\n",
       "4         1996                1.0                     Rape                  2\n",
       "5         1996                1.0     Residential Burglary                 42\n",
       "6         1996                1.0                  Robbery                  2\n",
       "7         1996                1.0                    Theft                293\n",
       "8         1996                1.0            Vehicle Theft                 53\n",
       "9         1996                1.0     Violent Crimes Total                 15"
      ]
     },
     "execution_count": 2,
     "metadata": {},
     "output_type": "execute_result"
    }
   ],
   "source": [
    "import numpy as np\n",
    "import matplotlib as plt\n",
    "import seaborn as sns\n",
    "import pandas as pd\n",
    "\n",
    "\n",
    "df= pd.read_csv(\"csvs/seattle.csv\")\n",
    "\n",
    "df.head(10)"
   ]
  },
  {
   "cell_type": "code",
   "execution_count": 3,
   "metadata": {},
   "outputs": [
    {
     "data": {
      "text/html": [
       "<div>\n",
       "<style scoped>\n",
       "    .dataframe tbody tr th:only-of-type {\n",
       "        vertical-align: middle;\n",
       "    }\n",
       "\n",
       "    .dataframe tbody tr th {\n",
       "        vertical-align: top;\n",
       "    }\n",
       "\n",
       "    .dataframe thead th {\n",
       "        text-align: right;\n",
       "    }\n",
       "</style>\n",
       "<table border=\"1\" class=\"dataframe\">\n",
       "  <thead>\n",
       "    <tr style=\"text-align: right;\">\n",
       "      <th></th>\n",
       "      <th>Report_Year</th>\n",
       "      <th>Census_Tract_1990</th>\n",
       "      <th>Report_Year_Total</th>\n",
       "    </tr>\n",
       "  </thead>\n",
       "  <tbody>\n",
       "    <tr>\n",
       "      <td>count</td>\n",
       "      <td>14268.000000</td>\n",
       "      <td>14236.000000</td>\n",
       "      <td>14268.000000</td>\n",
       "    </tr>\n",
       "    <tr>\n",
       "      <td>mean</td>\n",
       "      <td>2001.327586</td>\n",
       "      <td>60.955128</td>\n",
       "      <td>75.137090</td>\n",
       "    </tr>\n",
       "    <tr>\n",
       "      <td>std</td>\n",
       "      <td>3.380528</td>\n",
       "      <td>34.680663</td>\n",
       "      <td>174.191326</td>\n",
       "    </tr>\n",
       "    <tr>\n",
       "      <td>min</td>\n",
       "      <td>1996.000000</td>\n",
       "      <td>1.000000</td>\n",
       "      <td>-2.000000</td>\n",
       "    </tr>\n",
       "    <tr>\n",
       "      <td>25%</td>\n",
       "      <td>1998.000000</td>\n",
       "      <td>31.000000</td>\n",
       "      <td>2.000000</td>\n",
       "    </tr>\n",
       "    <tr>\n",
       "      <td>50%</td>\n",
       "      <td>2001.000000</td>\n",
       "      <td>60.000000</td>\n",
       "      <td>19.000000</td>\n",
       "    </tr>\n",
       "    <tr>\n",
       "      <td>75%</td>\n",
       "      <td>2004.000000</td>\n",
       "      <td>91.000000</td>\n",
       "      <td>66.000000</td>\n",
       "    </tr>\n",
       "    <tr>\n",
       "      <td>max</td>\n",
       "      <td>2007.000000</td>\n",
       "      <td>121.000000</td>\n",
       "      <td>4372.000000</td>\n",
       "    </tr>\n",
       "  </tbody>\n",
       "</table>\n",
       "</div>"
      ],
      "text/plain": [
       "        Report_Year  Census_Tract_1990  Report_Year_Total\n",
       "count  14268.000000       14236.000000       14268.000000\n",
       "mean    2001.327586          60.955128          75.137090\n",
       "std        3.380528          34.680663         174.191326\n",
       "min     1996.000000           1.000000          -2.000000\n",
       "25%     1998.000000          31.000000           2.000000\n",
       "50%     2001.000000          60.000000          19.000000\n",
       "75%     2004.000000          91.000000          66.000000\n",
       "max     2007.000000         121.000000        4372.000000"
      ]
     },
     "execution_count": 3,
     "metadata": {},
     "output_type": "execute_result"
    }
   ],
   "source": [
    "df.describe()"
   ]
  },
  {
   "cell_type": "code",
   "execution_count": 4,
   "metadata": {},
   "outputs": [
    {
     "data": {
      "text/plain": [
       "Residential Burglary       1476\n",
       "Theft                      1476\n",
       "Robbery                    1476\n",
       "Aggravated Assault         1476\n",
       "Vehicle Theft              1476\n",
       "Rape                       1476\n",
       "NonResidential Burglary    1476\n",
       "Homicide                   1476\n",
       "Violent Crimes Total       1230\n",
       "Property Crimes Total      1230\n",
       "Name: Crime_Type, dtype: int64"
      ]
     },
     "execution_count": 4,
     "metadata": {},
     "output_type": "execute_result"
    }
   ],
   "source": [
    "df['Crime_Type'].value_counts()"
   ]
  },
  {
   "cell_type": "code",
   "execution_count": 5,
   "metadata": {},
   "outputs": [
    {
     "data": {
      "text/plain": [
       "Crime_Type\n",
       "Aggravated Assault         AxesSubplot(0.125,0.125;0.775x0.755)\n",
       "Homicide                   AxesSubplot(0.125,0.125;0.775x0.755)\n",
       "NonResidential Burglary    AxesSubplot(0.125,0.125;0.775x0.755)\n",
       "Property Crimes Total      AxesSubplot(0.125,0.125;0.775x0.755)\n",
       "Rape                       AxesSubplot(0.125,0.125;0.775x0.755)\n",
       "Residential Burglary       AxesSubplot(0.125,0.125;0.775x0.755)\n",
       "Robbery                    AxesSubplot(0.125,0.125;0.775x0.755)\n",
       "Theft                      AxesSubplot(0.125,0.125;0.775x0.755)\n",
       "Vehicle Theft              AxesSubplot(0.125,0.125;0.775x0.755)\n",
       "Violent Crimes Total       AxesSubplot(0.125,0.125;0.775x0.755)\n",
       "Name: Report_Year_Total, dtype: object"
      ]
     },
     "execution_count": 5,
     "metadata": {},
     "output_type": "execute_result"
    },
    {
     "data": {
      "image/png": "[encoded data removed]",
      "text/plain": [
       "<Figure size 432x288 with 1 Axes>"
      ]
     },
     "metadata": {
      "needs_background": "light"
     },
     "output_type": "display_data"
    }
   ],
   "source": [
    "df.groupby('Crime_Type')['Report_Year_Total'].plot.hist(bins=10, legend='brief', alpha=0.5)"
   ]
  },
  {
   "cell_type": "code",
   "execution_count": 6,
   "metadata": {},
   "outputs": [
    {
     "data": {
      "text/plain": [
       "Crime_Type            Report_Year_Total\n",
       "Aggravated Assault    2                    92\n",
       "                      4                    91\n",
       "                      1                    89\n",
       "                      3                    80\n",
       "                      5                    76\n",
       "                                           ..\n",
       "Violent Crimes Total  392                   1\n",
       "                      416                   1\n",
       "                      429                   1\n",
       "                      447                   1\n",
       "                      456                   1\n",
       "Name: Report_Year_Total, Length: 1891, dtype: int64"
      ]
     },
     "execution_count": 6,
     "metadata": {},
     "output_type": "execute_result"
    }
   ],
   "source": [
    "df.groupby('Crime_Type')['Report_Year_Total'].value_counts()"
   ]
  },
  {
   "cell_type": "code",
   "execution_count": 7,
   "metadata": {},
   "outputs": [],
   "source": [
    "dfr = df.drop(columns=['Census_Tract_1990'])"
   ]
  },
  {
   "cell_type": "code",
   "execution_count": 8,
   "metadata": {},
   "outputs": [
    {
     "data": {
      "text/html": [
       "<div>\n",
       "<style scoped>\n",
       "    .dataframe tbody tr th:only-of-type {\n",
       "        vertical-align: middle;\n",
       "    }\n",
       "\n",
       "    .dataframe tbody tr th {\n",
       "        vertical-align: top;\n",
       "    }\n",
       "\n",
       "    .dataframe thead th {\n",
       "        text-align: right;\n",
       "    }\n",
       "</style>\n",
       "<table border=\"1\" class=\"dataframe\">\n",
       "  <thead>\n",
       "    <tr style=\"text-align: right;\">\n",
       "      <th></th>\n",
       "      <th>Report_Year</th>\n",
       "      <th>Crime_Type</th>\n",
       "      <th>Report_Year_Total</th>\n",
       "    </tr>\n",
       "  </thead>\n",
       "  <tbody>\n",
       "    <tr>\n",
       "      <td>0</td>\n",
       "      <td>1996</td>\n",
       "      <td>Aggravated Assault</td>\n",
       "      <td>11</td>\n",
       "    </tr>\n",
       "    <tr>\n",
       "      <td>1</td>\n",
       "      <td>1996</td>\n",
       "      <td>Homicide</td>\n",
       "      <td>0</td>\n",
       "    </tr>\n",
       "    <tr>\n",
       "      <td>2</td>\n",
       "      <td>1996</td>\n",
       "      <td>NonResidential Burglary</td>\n",
       "      <td>41</td>\n",
       "    </tr>\n",
       "    <tr>\n",
       "      <td>3</td>\n",
       "      <td>1996</td>\n",
       "      <td>Property Crimes Total</td>\n",
       "      <td>430</td>\n",
       "    </tr>\n",
       "    <tr>\n",
       "      <td>4</td>\n",
       "      <td>1996</td>\n",
       "      <td>Rape</td>\n",
       "      <td>2</td>\n",
       "    </tr>\n",
       "    <tr>\n",
       "      <td>...</td>\n",
       "      <td>...</td>\n",
       "      <td>...</td>\n",
       "      <td>...</td>\n",
       "    </tr>\n",
       "    <tr>\n",
       "      <td>14263</td>\n",
       "      <td>2007</td>\n",
       "      <td>Rape</td>\n",
       "      <td>4</td>\n",
       "    </tr>\n",
       "    <tr>\n",
       "      <td>14264</td>\n",
       "      <td>2007</td>\n",
       "      <td>Residential Burglary</td>\n",
       "      <td>36</td>\n",
       "    </tr>\n",
       "    <tr>\n",
       "      <td>14265</td>\n",
       "      <td>2007</td>\n",
       "      <td>Robbery</td>\n",
       "      <td>3</td>\n",
       "    </tr>\n",
       "    <tr>\n",
       "      <td>14266</td>\n",
       "      <td>2007</td>\n",
       "      <td>Theft</td>\n",
       "      <td>147</td>\n",
       "    </tr>\n",
       "    <tr>\n",
       "      <td>14267</td>\n",
       "      <td>2007</td>\n",
       "      <td>Vehicle Theft</td>\n",
       "      <td>52</td>\n",
       "    </tr>\n",
       "  </tbody>\n",
       "</table>\n",
       "<p>14268 rows × 3 columns</p>\n",
       "</div>"
      ],
      "text/plain": [
       "       Report_Year               Crime_Type  Report_Year_Total\n",
       "0             1996       Aggravated Assault                 11\n",
       "1             1996                 Homicide                  0\n",
       "2             1996  NonResidential Burglary                 41\n",
       "3             1996    Property Crimes Total                430\n",
       "4             1996                     Rape                  2\n",
       "...            ...                      ...                ...\n",
       "14263         2007                     Rape                  4\n",
       "14264         2007     Residential Burglary                 36\n",
       "14265         2007                  Robbery                  3\n",
       "14266         2007                    Theft                147\n",
       "14267         2007            Vehicle Theft                 52\n",
       "\n",
       "[14268 rows x 3 columns]"
      ]
     },
     "execution_count": 8,
     "metadata": {},
     "output_type": "execute_result"
    }
   ],
   "source": [
    "dfr"
   ]
  },
  {
   "cell_type": "code",
   "execution_count": 9,
   "metadata": {},
   "outputs": [],
   "source": [
    "dfc= df.reset_index().groupby(\"Crime_Type\").sum()"
   ]
  },
  {
   "cell_type": "code",
   "execution_count": 10,
   "metadata": {},
   "outputs": [
    {
     "data": {
      "text/html": [
       "<div>\n",
       "<style scoped>\n",
       "    .dataframe tbody tr th:only-of-type {\n",
       "        vertical-align: middle;\n",
       "    }\n",
       "\n",
       "    .dataframe tbody tr th {\n",
       "        vertical-align: top;\n",
       "    }\n",
       "\n",
       "    .dataframe thead th {\n",
       "        text-align: right;\n",
       "    }\n",
       "</style>\n",
       "<table border=\"1\" class=\"dataframe\">\n",
       "  <thead>\n",
       "    <tr style=\"text-align: right;\">\n",
       "      <th></th>\n",
       "      <th>index</th>\n",
       "      <th>Report_Year</th>\n",
       "      <th>Census_Tract_1990</th>\n",
       "      <th>Report_Year_Total</th>\n",
       "    </tr>\n",
       "    <tr>\n",
       "      <th>Crime_Type</th>\n",
       "      <th></th>\n",
       "      <th></th>\n",
       "      <th></th>\n",
       "      <th></th>\n",
       "    </tr>\n",
       "  </thead>\n",
       "  <tbody>\n",
       "    <tr>\n",
       "      <td>Aggravated Assault</td>\n",
       "      <td>10825196</td>\n",
       "      <td>2954214</td>\n",
       "      <td>89729.7</td>\n",
       "      <td>27523</td>\n",
       "    </tr>\n",
       "    <tr>\n",
       "      <td>Homicide</td>\n",
       "      <td>10826684</td>\n",
       "      <td>2954214</td>\n",
       "      <td>89729.7</td>\n",
       "      <td>399</td>\n",
       "    </tr>\n",
       "    <tr>\n",
       "      <td>NonResidential Burglary</td>\n",
       "      <td>10828173</td>\n",
       "      <td>2954214</td>\n",
       "      <td>89729.7</td>\n",
       "      <td>27647</td>\n",
       "    </tr>\n",
       "    <tr>\n",
       "      <td>Property Crimes Total</td>\n",
       "      <td>7562049</td>\n",
       "      <td>2460615</td>\n",
       "      <td>74959.8</td>\n",
       "      <td>454505</td>\n",
       "    </tr>\n",
       "    <tr>\n",
       "      <td>Rape</td>\n",
       "      <td>10830891</td>\n",
       "      <td>2954214</td>\n",
       "      <td>89729.7</td>\n",
       "      <td>1898</td>\n",
       "    </tr>\n",
       "    <tr>\n",
       "      <td>Residential Burglary</td>\n",
       "      <td>10832379</td>\n",
       "      <td>2954214</td>\n",
       "      <td>89729.7</td>\n",
       "      <td>58238</td>\n",
       "    </tr>\n",
       "    <tr>\n",
       "      <td>Robbery</td>\n",
       "      <td>10833867</td>\n",
       "      <td>2954214</td>\n",
       "      <td>89729.7</td>\n",
       "      <td>19981</td>\n",
       "    </tr>\n",
       "    <tr>\n",
       "      <td>Theft</td>\n",
       "      <td>10835355</td>\n",
       "      <td>2954214</td>\n",
       "      <td>89729.7</td>\n",
       "      <td>342627</td>\n",
       "    </tr>\n",
       "    <tr>\n",
       "      <td>Vehicle Theft</td>\n",
       "      <td>10836843</td>\n",
       "      <td>2954214</td>\n",
       "      <td>89729.7</td>\n",
       "      <td>97177</td>\n",
       "    </tr>\n",
       "    <tr>\n",
       "      <td>Violent Crimes Total</td>\n",
       "      <td>7569341</td>\n",
       "      <td>2460615</td>\n",
       "      <td>74959.8</td>\n",
       "      <td>42061</td>\n",
       "    </tr>\n",
       "  </tbody>\n",
       "</table>\n",
       "</div>"
      ],
      "text/plain": [
       "                            index  Report_Year  Census_Tract_1990  \\\n",
       "Crime_Type                                                          \n",
       "Aggravated Assault       10825196      2954214            89729.7   \n",
       "Homicide                 10826684      2954214            89729.7   \n",
       "NonResidential Burglary  10828173      2954214            89729.7   \n",
       "Property Crimes Total     7562049      2460615            74959.8   \n",
       "Rape                     10830891      2954214            89729.7   \n",
       "Residential Burglary     10832379      2954214            89729.7   \n",
       "Robbery                  10833867      2954214            89729.7   \n",
       "Theft                    10835355      2954214            89729.7   \n",
       "Vehicle Theft            10836843      2954214            89729.7   \n",
       "Violent Crimes Total      7569341      2460615            74959.8   \n",
       "\n",
       "                         Report_Year_Total  \n",
       "Crime_Type                                  \n",
       "Aggravated Assault                   27523  \n",
       "Homicide                               399  \n",
       "NonResidential Burglary              27647  \n",
       "Property Crimes Total               454505  \n",
       "Rape                                  1898  \n",
       "Residential Burglary                 58238  \n",
       "Robbery                              19981  \n",
       "Theft                               342627  \n",
       "Vehicle Theft                        97177  \n",
       "Violent Crimes Total                 42061  "
      ]
     },
     "execution_count": 10,
     "metadata": {},
     "output_type": "execute_result"
    }
   ],
   "source": [
    "dfc"
   ]
  },
  {
   "cell_type": "code",
   "execution_count": 11,
   "metadata": {},
   "outputs": [],
   "source": [
    "dfc=dfc.drop(columns=['index', 'Report_Year', 'Census_Tract_1990'])"
   ]
  },
  {
   "cell_type": "code",
   "execution_count": 12,
   "metadata": {},
   "outputs": [
    {
     "data": {
      "text/html": [
       "<div>\n",
       "<style scoped>\n",
       "    .dataframe tbody tr th:only-of-type {\n",
       "        vertical-align: middle;\n",
       "    }\n",
       "\n",
       "    .dataframe tbody tr th {\n",
       "        vertical-align: top;\n",
       "    }\n",
       "\n",
       "    .dataframe thead th {\n",
       "        text-align: right;\n",
       "    }\n",
       "</style>\n",
       "<table border=\"1\" class=\"dataframe\">\n",
       "  <thead>\n",
       "    <tr style=\"text-align: right;\">\n",
       "      <th></th>\n",
       "      <th>Report_Year_Total</th>\n",
       "    </tr>\n",
       "    <tr>\n",
       "      <th>Crime_Type</th>\n",
       "      <th></th>\n",
       "    </tr>\n",
       "  </thead>\n",
       "  <tbody>\n",
       "    <tr>\n",
       "      <td>Aggravated Assault</td>\n",
       "      <td>27523</td>\n",
       "    </tr>\n",
       "    <tr>\n",
       "      <td>Homicide</td>\n",
       "      <td>399</td>\n",
       "    </tr>\n",
       "    <tr>\n",
       "      <td>NonResidential Burglary</td>\n",
       "      <td>27647</td>\n",
       "    </tr>\n",
       "    <tr>\n",
       "      <td>Property Crimes Total</td>\n",
       "      <td>454505</td>\n",
       "    </tr>\n",
       "    <tr>\n",
       "      <td>Rape</td>\n",
       "      <td>1898</td>\n",
       "    </tr>\n",
       "    <tr>\n",
       "      <td>Residential Burglary</td>\n",
       "      <td>58238</td>\n",
       "    </tr>\n",
       "    <tr>\n",
       "      <td>Robbery</td>\n",
       "      <td>19981</td>\n",
       "    </tr>\n",
       "    <tr>\n",
       "      <td>Theft</td>\n",
       "      <td>342627</td>\n",
       "    </tr>\n",
       "    <tr>\n",
       "      <td>Vehicle Theft</td>\n",
       "      <td>97177</td>\n",
       "    </tr>\n",
       "    <tr>\n",
       "      <td>Violent Crimes Total</td>\n",
       "      <td>42061</td>\n",
       "    </tr>\n",
       "  </tbody>\n",
       "</table>\n",
       "</div>"
      ],
      "text/plain": [
       "                         Report_Year_Total\n",
       "Crime_Type                                \n",
       "Aggravated Assault                   27523\n",
       "Homicide                               399\n",
       "NonResidential Burglary              27647\n",
       "Property Crimes Total               454505\n",
       "Rape                                  1898\n",
       "Residential Burglary                 58238\n",
       "Robbery                              19981\n",
       "Theft                               342627\n",
       "Vehicle Theft                        97177\n",
       "Violent Crimes Total                 42061"
      ]
     },
     "execution_count": 12,
     "metadata": {},
     "output_type": "execute_result"
    }
   ],
   "source": [
    "dfc"
   ]
  },
  {
   "cell_type": "code",
   "execution_count": 13,
   "metadata": {},
   "outputs": [
    {
     "data": {
      "text/plain": [
       "Crime_Type\n",
       "Aggravated Assault         AxesSubplot(0.125,0.125;0.775x0.755)\n",
       "Homicide                   AxesSubplot(0.125,0.125;0.775x0.755)\n",
       "NonResidential Burglary    AxesSubplot(0.125,0.125;0.775x0.755)\n",
       "Property Crimes Total      AxesSubplot(0.125,0.125;0.775x0.755)\n",
       "Rape                       AxesSubplot(0.125,0.125;0.775x0.755)\n",
       "Residential Burglary       AxesSubplot(0.125,0.125;0.775x0.755)\n",
       "Robbery                    AxesSubplot(0.125,0.125;0.775x0.755)\n",
       "Theft                      AxesSubplot(0.125,0.125;0.775x0.755)\n",
       "Vehicle Theft              AxesSubplot(0.125,0.125;0.775x0.755)\n",
       "Violent Crimes Total       AxesSubplot(0.125,0.125;0.775x0.755)\n",
       "Name: Report_Year_Total, dtype: object"
      ]
     },
     "execution_count": 13,
     "metadata": {},
     "output_type": "execute_result"
    },
    {
     "data": {
      "image/png": "[encoded data removed]",
      "text/plain": [
       "<Figure size 432x288 with 1 Axes>"
      ]
     },
     "metadata": {
      "needs_background": "light"
     },
     "output_type": "display_data"
    }
   ],
   "source": [
    "dfc.groupby(\"Crime_Type\")[\"Report_Year_Total\"].plot.hist(bins=10, legend='brief', alpha =0.5)"
   ]
  },
  {
   "cell_type": "code",
   "execution_count": 14,
   "metadata": {},
   "outputs": [
    {
     "data": {
      "text/plain": [
       "<matplotlib.axes._subplots.AxesSubplot at 0x1a1974bb10>"
      ]
     },
     "execution_count": 14,
     "metadata": {},
     "output_type": "execute_result"
    },
    {
     "data": {
      "image/png": "[encoded data removed]",
      "text/plain": [
       "<Figure size 432x288 with 1 Axes>"
      ]
     },
     "metadata": {
      "needs_background": "light"
     },
     "output_type": "display_data"
    }
   ],
   "source": [
    "dfc.plot.bar()"
   ]
  },
  {
   "cell_type": "code",
   "execution_count": 15,
   "metadata": {},
   "outputs": [
    {
     "data": {
      "text/plain": [
       "Report_Year\n",
       "1996    AxesSubplot(0.125,0.125;0.775x0.755)\n",
       "1997    AxesSubplot(0.125,0.125;0.775x0.755)\n",
       "1998    AxesSubplot(0.125,0.125;0.775x0.755)\n",
       "1999    AxesSubplot(0.125,0.125;0.775x0.755)\n",
       "2000    AxesSubplot(0.125,0.125;0.775x0.755)\n",
       "2001    AxesSubplot(0.125,0.125;0.775x0.755)\n",
       "2002    AxesSubplot(0.125,0.125;0.775x0.755)\n",
       "2003    AxesSubplot(0.125,0.125;0.775x0.755)\n",
       "2004    AxesSubplot(0.125,0.125;0.775x0.755)\n",
       "2005    AxesSubplot(0.125,0.125;0.775x0.755)\n",
       "2006    AxesSubplot(0.125,0.125;0.775x0.755)\n",
       "2007    AxesSubplot(0.125,0.125;0.775x0.755)\n",
       "Name: Report_Year_Total, dtype: object"
      ]
     },
     "execution_count": 15,
     "metadata": {},
     "output_type": "execute_result"
    },
    {
     "data": {
      "image/png": "[encoded data removed]",
      "text/plain": [
       "<Figure size 432x288 with 1 Axes>"
      ]
     },
     "metadata": {
      "needs_background": "light"
     },
     "output_type": "display_data"
    }
   ],
   "source": [
    "df.groupby('Report_Year')['Report_Year_Total'].plot.hist(bins=10, legend='brief', alpha=0.5)"
   ]
  },
  {
   "cell_type": "markdown",
   "metadata": {},
   "source": [
    "This Cleaning took about 2-3 hours to do, learning the meaning of the dataset and coming up with a reasonable means of seperating the value. Given more time I would ensure that I graph crimes by year, so that each crime is one bar for each year on the histogram.\n",
    "\n",
    "The data cleaning, made me realize that when organizing the information, the Census tract interfered with general data seperation, for Crime_Type, but that once removed, a more accurate vision of totals over the ten year period emerged."
   ]
  }
 ],
 "metadata": {
  "kernelspec": {
   "display_name": "Python 3",
   "language": "python",
   "name": "python3"
  },
  "language_info": {
   "codemirror_mode": {
    "name": "ipython",
    "version": 3
   },
   "file_extension": ".py",
   "mimetype": "text/x-python",
   "name": "python",
   "nbconvert_exporter": "python",
   "pygments_lexer": "ipython3",
   "version": "3.7.4"
  }
 },
 "nbformat": 4,
 "nbformat_minor": 2
}
